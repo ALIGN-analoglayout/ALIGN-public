{
 "cells": [
  {
   "cell_type": "code",
   "execution_count": 24,
   "metadata": {},
   "outputs": [
    {
     "name": "stdout",
     "output_type": "stream",
     "text": [
      "[{'name': 'id', 'path': []}, {'name': 'vbiasn', 'path': []}, {'name': 'vbiasnd', 'path': []}, {'name': 'vbiasp1', 'path': []}, {'name': 'vbiasp2', 'path': []}, {'name': 'vdd', 'path': []}, {'name': 'net64', 'path': [[27680, 14616, 27680, 13440], [27680, 13440, 39040, 13440], [39040, 13440, 39040, 3192], [39040, 3192, 39200, 3192], [32640, 13440, 32640, 13440], [32640, 13440, 32640, 13944], [32840, 13944, 32440, 13944], [32640, 13944, 32640, 13608]]}, {'name': 'net66', 'path': [[27840, 14784, 27840, 12600], [27840, 12600, 19872, 12600], [19872, 12600, 19872, 10080], [20232, 10080, 19512, 10080], [19872, 10080, 19872, 3168], [20088, 3168, 19368, 3168], [19584, 3196, 19584, 2996], [19612, 3024, 19332, 3024], [19360, 3150, 19360, 2730], [19560, 2856, 19160, 2856], [19360, 2856, 19360, 3192], [27840, 13272, 27840, 13272], [27840, 13272, 28160, 13272], [28160, 13482, 28160, 13062], [28160, 13272, 28160, 13272]]}, {'name': 'voutn', 'path': [[24480, 19656, 22560, 19656], [22560, 19656, 22560, 20160], [22560, 20160, 19680, 20160], [19680, 20160, 19680, 22512], [19680, 22512, 19680, 22512], [26240, 19656, 26240, 19656], [26240, 19656, 26240, 21672]]}, {'name': 'voutp', 'path': [[34560, 19992, 35200, 19992], [35200, 19980, 35200, 20340], [35200, 20328, 39200, 20328], [39200, 20328, 39200, 22512], [39200, 22512, 39520, 22512], [32640, 19992, 32640, 19992], [32640, 19992, 32640, 21336], [32640, 21336, 32640, 21336]]}, {'name': 'vss', 'path': [[27680, 18312, 27680, 19488], [27804, 19488, 27524, 19488], [27648, 19436, 27648, 19636], [28008, 19584, 27288, 19584], [27648, 19944, 27648, 19224], [28008, 19584, 27288, 19584], [27648, 19584, 27648, 46080], [28008, 46080, 27288, 46080], [27648, 46440, 27648, 45720], [28008, 46080, 27288, 46080], [27648, 46040, 27648, 46240], [27524, 46200, 27804, 46200], [27680, 46410, 27680, 45990], [27680, 46200, 27680, 46200], [27680, 46200, 27680, 46536], [27680, 46536, 27680, 46536]]}, {'name': 'vinn', 'path': []}, {'name': 'agnd', 'path': [[16320, 504, 16320, 504], [16320, 504, 19008, 504], [19008, 504, 19008, 3456], [19008, 3456, 49248, 3456], [49248, 3456, 49248, 504], [49204, 504, 49484, 504], [49440, 714, 49440, 294], [49440, 504, 49440, 504]]}, {'name': 'phi1', 'path': [[13760, 672, 13920, 672], [13920, 714, 13920, 294], [13920, 336, 48320, 336], [48320, 294, 48320, 714], [48320, 672, 48320, 672]]}, {'name': 'phi2', 'path': [[16640, 1008, 16640, 1008], [16640, 1008, 18720, 1008], [18720, 1008, 18720, 3744], [18720, 3744, 48960, 3744], [48960, 3744, 48960, 840], [48960, 840, 49280, 840], [49280, 1050, 49280, 630], [49280, 840, 49280, 840]]}, {'name': 'vinp', 'path': [[50720, 336, 50720, 336], [50720, 336, 48672, 336], [48672, 412, 48672, 212], [48672, 288, 32544, 288], [32544, 288, 32544, 504], [32572, 504, 32292, 504], [32320, 714, 32320, 294], [32320, 504, 32320, 504]]}]\n",
      "voutn\n",
      "[[24480, 19656, 22560, 19656], [22560, 19656, 22560, 20160], [22560, 20160, 19680, 20160], [19680, 20160, 19680, 22512], [19680, 22512, 19680, 22512], [26240, 19656, 26240, 19656], [26240, 19656, 26240, 21672]]\n",
      "voutp\n",
      "[[34560, 19992, 35200, 19992], [35200, 19980, 35200, 20340], [35200, 20328, 39200, 20328], [39200, 20328, 39200, 22512], [39200, 22512, 39520, 22512], [32640, 19992, 32640, 19992], [32640, 19992, 32640, 21336], [32640, 21336, 32640, 21336]]\n"
     ]
    },
    {
     "data": {
      "image/png": "[encoded data removed]",
      "text/plain": [
       "<Figure size 432x288 with 1 Axes>"
      ]
     },
     "metadata": {
      "needs_background": "light"
     },
     "output_type": "display_data"
    },
    {
     "name": "stdout",
     "output_type": "stream",
     "text": [
      "voutn\n",
      "[[24480, 19656, 22560, 19656], [22560, 19656, 22560, 20160], [22560, 20160, 19680, 20160], [19680, 20160, 19680, 22512], [19680, 22512, 19680, 22512], [26240, 19656, 26240, 19656], [26240, 19656, 26240, 21672]]\n",
      "voutp\n",
      "[[34560, 19992, 35200, 19992], [35200, 19980, 35200, 20340], [35200, 20328, 39200, 20328], [39200, 20328, 39200, 22512], [39200, 22512, 39520, 22512], [32640, 19992, 32640, 19992], [32640, 19992, 32640, 21336], [32640, 21336, 32640, 21336]]\n"
     ]
    },
    {
     "data": {
      "image/png": "[encoded data removed]",
      "text/plain": [
       "<Figure size 432x288 with 1 Axes>"
      ]
     },
     "metadata": {
      "needs_background": "light"
     },
     "output_type": "display_data"
    }
   ],
   "source": [
    "import json\n",
    "import matplotlib.pyplot as plt\n",
    "\n",
    "def read_data(filename):\n",
    "    read_file = filename\n",
    "    data = json.load(open(read_file,'r'))\n",
    "    Blocks = data[\"blocks\"]\n",
    "    Path = data[\"wires\"]\n",
    "    \n",
    "    return Blocks,Path\n",
    "\n",
    "def plot_detail_routing(Blocks,Path,name1,name2):\n",
    "    \n",
    "    plt.figure()\n",
    "    \n",
    "    #plot_box(node_box['LLx'], node_box['LLy'],node_box['URx'],node_box['URy'],'r')\n",
    "    \n",
    "    for block in Blocks:\n",
    "        \n",
    "        plot_box(block[\"position\"][0],block[\"position\"][1],block[\"position\"][2],block[\"position\"][3],'k')        \n",
    "    \n",
    "    \n",
    "    for net in Path:\n",
    "    \n",
    "        if net['name']!=name1 and net['name']!=name2:\n",
    "            continue\n",
    "     \n",
    "        print(net['name'])\n",
    "        print(net['path'])\n",
    "        \n",
    "        for path in net['path']:\n",
    "            plot_line(path[0],path[1],path[2],path[3],'r')\n",
    "            \n",
    "        #for stiner_node in net['steiner_node']:\n",
    "            #plot_dot(stiner_node['x'],stiner_node['y'],'g')\n",
    "            \n",
    "    plt.savefig(\"sym_routing\", dpi=300)\n",
    "    \n",
    "    plt.show()\n",
    "    \n",
    "def plot_detail_routing_sym(Blocks,Path,name1,name2,center):\n",
    "    \n",
    "    plt.figure()\n",
    "    \n",
    "    #plot_box(node_box['LLx'], node_box['LLy'],node_box['URx'],node_box['URy'],'r')\n",
    "    \n",
    "    for block in Blocks:\n",
    "        \n",
    "        plot_box(block[\"position\"][0],block[\"position\"][1],block[\"position\"][2],block[\"position\"][3],'k')        \n",
    "    \n",
    "    \n",
    "    for net in Path:\n",
    "    \n",
    "        if net['name']!=name1 and net['name']!=name2:\n",
    "            continue\n",
    "     \n",
    "        print(net['name'])\n",
    "        print(net['path'])\n",
    "        \n",
    "        for path in net['path']:\n",
    "            plot_line(2*center-path[2],path[1],2*center-path[0],path[3],'b')\n",
    "            \n",
    "        #for stiner_node in net['steiner_node']:\n",
    "            #plot_dot(stiner_node['x'],stiner_node['y'],'g')\n",
    "    \n",
    "    plt.show()\n",
    "    \n",
    "def plot_box(llx,lly,urx,ury,c):\n",
    "    plt.plot([llx,urx], [lly,lly], lw=2, color=c)\n",
    "    plt.plot([urx,urx], [lly,ury], lw=2, color=c)\n",
    "    plt.plot([urx,llx], [ury,ury], lw=2, color=c)\n",
    "    plt.plot([llx,llx], [lly,ury], lw=2, color=c)\n",
    "    \n",
    "def plot_line(llx,lly,urx,ury,c):\n",
    "    plt.plot([llx,urx], [lly,ury], lw=2, color=c)\n",
    "    \n",
    "def plot_dot(x,y,c):\n",
    "    plt.plot(x,y, 'o', color=c)\n",
    "\n",
    "\n",
    "Blocks,Path=read_data(\"Results/switched_capacitor_filter_DetailRoute_0.json\")\n",
    "print(Path)\n",
    "\n",
    "plot_detail_routing(Blocks,Path,\"voutn\",\"voutp\")\n",
    "\n",
    "plot_detail_routing_sym(Blocks,Path,\"voutn\",\"voutp\",29400)\n",
    "\n"
   ]
  },
  {
   "cell_type": "code",
   "execution_count": null,
   "metadata": {},
   "outputs": [],
   "source": []
  }
 ],
 "metadata": {
  "kernelspec": {
   "display_name": "Python 3",
   "language": "python",
   "name": "python3"
  },
  "language_info": {
   "codemirror_mode": {
    "name": "ipython",
    "version": 3
   },
   "file_extension": ".py",
   "mimetype": "text/x-python",
   "name": "python",
   "nbconvert_exporter": "python",
   "pygments_lexer": "ipython3",
   "version": "3.6.12"
  }
 },
 "nbformat": 4,
 "nbformat_minor": 4
}
