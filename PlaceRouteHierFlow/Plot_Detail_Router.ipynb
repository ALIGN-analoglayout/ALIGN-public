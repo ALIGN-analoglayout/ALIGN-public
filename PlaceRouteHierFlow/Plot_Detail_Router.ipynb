{
 "cells": [
  {
   "cell_type": "code",
   "execution_count": 68,
   "metadata": {},
   "outputs": [
    {
     "name": "stdout",
     "output_type": "stream",
     "text": [
      "blocks 0 {'name': 'mmp5', 'pin': [{'contact': [[5208, 8872, 5672, 8936]], 'name': 'D'}, {'contact': [[5208, 10384, 5672, 10448]], 'name': 'G'}, {'contact': [[5720, 8664, 5800, 11664]], 'name': 'S'}], 'position': [4640, 8568, 5920, 12264]}\n",
      "vip_o\n",
      "[[6880, 6552, 7520, 6552], [7520, 6552, 7520, 12936], [7520, 12936, 10400, 12936], [10400, 12936, 10400, 12936], [10400, 14280, 10400, 16632], [10400, 16632, 10080, 16632], [10080, 16632, 10080, 16632], [10080, 17976, 10080, 17976], [10080, 17976, 11840, 17976], [11840, 18186, 11840, 17766], [11840, 17976, 11840, 17976]]\n",
      "vin_o\n",
      "[[13760, 6552, 12960, 6552], [12960, 6552, 12960, 13104], [12960, 13104, 10240, 13104], [10240, 13104, 10240, 13104], [10240, 14112, 10240, 14448], [10280, 14448, 9880, 14448], [9920, 14448, 9920, 16464], [9920, 17640, 9920, 17640], [9920, 17640, 8640, 17640], [8640, 17598, 8640, 18018], [8640, 17976, 8640, 17976]]\n"
     ]
    },
    {
     "data": {
      "image/png": "[encoded data removed]",
      "text/plain": [
       "<Figure size 432x288 with 1 Axes>"
      ]
     },
     "metadata": {
      "needs_background": "light"
     },
     "output_type": "display_data"
    }
   ],
   "source": [
    "import json\n",
    "import matplotlib.pyplot as plt\n",
    "\n",
    "def read_data(filename):\n",
    "    read_file = filename\n",
    "    data = json.load(open(read_file,'r'))\n",
    "    Blocks = data[\"blocks\"]\n",
    "    Path = data[\"wires\"]\n",
    "    \n",
    "    return Blocks,Path\n",
    "\n",
    "def plot_detail_routing(Blocks,Path,name1,name2):\n",
    "    \n",
    "    plt.figure()\n",
    "    \n",
    "    #plot_box(node_box['LLx'], node_box['LLy'],node_box['URx'],node_box['URy'],'r')\n",
    "    \n",
    "    for block in Blocks:\n",
    "        \n",
    "        plot_box(block[\"position\"][0],block[\"position\"][1],block[\"position\"][2],block[\"position\"][3],'k',3)        \n",
    "    \n",
    "    index = 1\n",
    "    for net in Path:\n",
    "    \n",
    "        if net['name']!=name1 and net['name']!=name2:\n",
    "            continue\n",
    "     \n",
    "        print(net['name'])\n",
    "        print(net['path'])\n",
    "        \n",
    "        for path in net['path']:\n",
    "            if index==1:\n",
    "                c = 'y'\n",
    "            else:\n",
    "                c = 'b'\n",
    "            plot_line(path[0],path[1],path[2],path[3],c,5)\n",
    "            #pass\n",
    "\n",
    "        for connected in net[\"connection\"]:\n",
    "            contacts = Blocks[connected[0]][\"pin\"][connected[1]][\"contact\"]\n",
    "            for contact in contacts:\n",
    "              llx = contact[0]\n",
    "              lly = contact[1]\n",
    "              urx = contact[2]\n",
    "              ury = contact[3]\n",
    "              if index==1:\n",
    "                c = 'r'\n",
    "              else:\n",
    "                c = 'g'\n",
    "              plot_box(llx,lly,urx,ury,c,4)\n",
    "            \n",
    "        index=index+1\n",
    "        #for stiner_node in net['steiner_node']:\n",
    "            #plot_dot(stiner_node['x'],stiner_node['y'],'g')\n",
    "    plt.xlim((5000, 16000))\n",
    "    plt.ylim((5000, 20000))\n",
    "    plt.savefig(\"sym_routing\", dpi=300)\n",
    "    \n",
    "    plt.show()\n",
    "    \n",
    "def plot_box(llx,lly,urx,ury,c,zorder):\n",
    "    plt.plot([llx,urx], [lly,lly], lw=1, color=c, zorder=zorder)\n",
    "    plt.plot([urx,urx], [lly,ury], lw=1, color=c, zorder=zorder)\n",
    "    plt.plot([urx,llx], [ury,ury], lw=1, color=c, zorder=zorder)\n",
    "    plt.plot([llx,llx], [lly,ury], lw=1, color=c, zorder=zorder)\n",
    "    \n",
    "def plot_line(llx,lly,urx,ury,c,zorder):\n",
    "    plt.plot([llx,urx], [lly,ury], lw=2, color=c, zorder=zorder)\n",
    "    \n",
    "def plot_dot(x,y,c,zorder):\n",
    "    plt.plot(x,y, 'o', color=c, zorder=zorder)\n",
    "\n",
    "\n",
    "#Blocks,Path=read_data(\"Results/switched_capacitor_filter_DetailRoute_0.json\")\n",
    "#print(Path)\n",
    "Blocks,Path=read_data(\"high_speed_comparator_DetailRoute_0.json\")\n",
    "\n",
    "print('blocks 0',Blocks[0])\n",
    "\n",
    "\n",
    "plot_detail_routing(Blocks,Path,\"vip_o\",\"vin_o\")\n",
    "\n",
    "\n"
   ]
  },
  {
   "cell_type": "code",
   "execution_count": null,
   "metadata": {},
   "outputs": [],
   "source": []
  }
 ],
 "metadata": {
  "kernelspec": {
   "display_name": "Python 3",
   "language": "python",
   "name": "python3"
  },
  "language_info": {
   "codemirror_mode": {
    "name": "ipython",
    "version": 3
   },
   "file_extension": ".py",
   "mimetype": "text/x-python",
   "name": "python",
   "nbconvert_exporter": "python",
   "pygments_lexer": "ipython3",
   "version": "3.6.12"
  }
 },
 "nbformat": 4,
 "nbformat_minor": 4
}
