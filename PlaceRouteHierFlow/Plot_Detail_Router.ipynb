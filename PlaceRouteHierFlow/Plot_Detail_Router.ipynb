{
 "cells": [
  {
   "cell_type": "code",
   "execution_count": 69,
   "metadata": {},
   "outputs": [
    {
     "name": "stdout",
     "output_type": "stream",
     "text": [
      "blocks 0 {'name': 'xi0', 'pin': [{'contact': [[27160, 17736, 27240, 18552], [27800, 17736, 27880, 18552]], 'name': 'd1'}, {'contact': [[24248, 20128, 30792, 20192]], 'name': 'vbiasn'}, {'contact': [[27480, 18072, 27560, 18888], [28120, 18072, 28200, 18888]], 'name': 'vbiasnd'}, {'contact': [[34040, 18072, 34120, 18888], [34680, 18072, 34760, 18888]], 'name': 'vbiasp1'}, {'contact': [[32088, 20128, 36072, 20192]], 'name': 'vbiasp2'}, {'contact': [[33560, 17568, 33640, 18384], [34200, 17568, 34280, 18384]], 'name': 'vdd'}, {'contact': [[27640, 14544, 27720, 16368]], 'name': 'vinn'}, {'contact': [[27800, 14712, 27880, 16536]], 'name': 'vinp'}, {'contact': [[32248, 19624, 35912, 19688], [24408, 19624, 29672, 19688], [29600, 19624, 32320, 19688]], 'name': 'voutn'}, {'contact': [[33528, 19960, 34632, 20024], [25688, 19960, 30952, 20024], [30880, 19960, 33600, 20024]], 'name': 'voutp'}, {'contact': [[27000, 17568, 27080, 18384], [27640, 17568, 27720, 18384]], 'name': 'vss'}], 'position': [22400, 13944, 36640, 21000]}\n",
      "voutn\n",
      "[[24480, 19656, 22560, 19656], [22560, 19656, 22560, 20160], [22560, 20160, 19680, 20160], [19680, 20160, 19680, 22512], [19680, 22512, 19680, 22512], [26240, 19656, 26240, 19656], [26240, 19656, 26240, 21672]]\n",
      "voutp\n",
      "[[34560, 19992, 35200, 19992], [35200, 19980, 35200, 20340], [35200, 20328, 39200, 20328], [39200, 20328, 39200, 22512], [39200, 22512, 39520, 22512], [32640, 19992, 32640, 19992], [32640, 19992, 32640, 21336], [32640, 21336, 32640, 21336]]\n"
     ]
    },
    {
     "data": {
      "image/png": "[encoded data removed]",
      "text/plain": [
       "<Figure size 432x288 with 1 Axes>"
      ]
     },
     "metadata": {
      "needs_background": "light"
     },
     "output_type": "display_data"
    }
   ],
   "source": [
    "import json\n",
    "import matplotlib.pyplot as plt\n",
    "\n",
    "def read_data(filename):\n",
    "    read_file = filename\n",
    "    data = json.load(open(read_file,'r'))\n",
    "    Blocks = data[\"blocks\"]\n",
    "    Path = data[\"wires\"]\n",
    "    \n",
    "    return Blocks,Path\n",
    "\n",
    "def plot_detail_routing(Blocks,Path,name1,name2):\n",
    "    \n",
    "    plt.figure()\n",
    "    \n",
    "    #plot_box(node_box['LLx'], node_box['LLy'],node_box['URx'],node_box['URy'],'r')\n",
    "    \n",
    "    for block in Blocks:\n",
    "        \n",
    "        plot_box(block[\"position\"][0],block[\"position\"][1],block[\"position\"][2],block[\"position\"][3],'k',3)        \n",
    "    \n",
    "    index = 1\n",
    "    for net in Path:\n",
    "    \n",
    "        if net['name']!=name1 and net['name']!=name2:\n",
    "            continue\n",
    "     \n",
    "        print(net['name'])\n",
    "        print(net['path'])\n",
    "        \n",
    "        for path in net['path']:\n",
    "            #plot_line(path[0],path[1],path[2],path[3],'b',5)\n",
    "            pass\n",
    "\n",
    "        for connected in net[\"connection\"]:\n",
    "            contacts = Blocks[connected[0]][\"pin\"][connected[1]][\"contact\"]\n",
    "            for contact in contacts:\n",
    "              llx = contact[0]\n",
    "              lly = contact[1]\n",
    "              urx = contact[2]\n",
    "              ury = contact[3]\n",
    "              if index==1:\n",
    "                c = 'r'\n",
    "              else:\n",
    "                c = 'g'\n",
    "              plot_box(llx,lly,urx,ury,c,4)\n",
    "            \n",
    "        index=index+1\n",
    "        #for stiner_node in net['steiner_node']:\n",
    "            #plot_dot(stiner_node['x'],stiner_node['y'],'g')\n",
    "    #plt.xlim((19000, 41000))\n",
    "    #plt.ylim((17000, 24000))\n",
    "    plt.savefig(\"sym_routing\", dpi=300)\n",
    "    \n",
    "    plt.show()\n",
    "    \n",
    "def plot_box(llx,lly,urx,ury,c,zorder):\n",
    "    plt.plot([llx,urx], [lly,lly], lw=1, color=c, zorder=zorder)\n",
    "    plt.plot([urx,urx], [lly,ury], lw=1, color=c, zorder=zorder)\n",
    "    plt.plot([urx,llx], [ury,ury], lw=1, color=c, zorder=zorder)\n",
    "    plt.plot([llx,llx], [lly,ury], lw=1, color=c, zorder=zorder)\n",
    "    \n",
    "def plot_line(llx,lly,urx,ury,c,zorder):\n",
    "    plt.plot([llx,urx], [lly,ury], lw=2, color=c, zorder=zorder)\n",
    "    \n",
    "def plot_dot(x,y,c,zorder):\n",
    "    plt.plot(x,y, 'o', color=c, zorder=zorder)\n",
    "\n",
    "\n",
    "Blocks,Path=read_data(\"Results/switched_capacitor_filter_DetailRoute_0.json\")\n",
    "#print(Path)\n",
    "\n",
    "print('blocks 0',Blocks[0])\n",
    "\n",
    "\n",
    "plot_detail_routing(Blocks,Path,\"voutn\",\"voutp\")\n",
    "\n",
    "\n"
   ]
  },
  {
   "cell_type": "code",
   "execution_count": null,
   "metadata": {},
   "outputs": [],
   "source": []
  }
 ],
 "metadata": {
  "kernelspec": {
   "display_name": "Python 3",
   "language": "python",
   "name": "python3"
  },
  "language_info": {
   "codemirror_mode": {
    "name": "ipython",
    "version": 3
   },
   "file_extension": ".py",
   "mimetype": "text/x-python",
   "name": "python",
   "nbconvert_exporter": "python",
   "pygments_lexer": "ipython3",
   "version": "3.6.12"
  }
 },
 "nbformat": 4,
 "nbformat_minor": 4
}
