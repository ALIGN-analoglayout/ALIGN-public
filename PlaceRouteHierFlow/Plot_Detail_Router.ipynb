{
 "cells": [
  {
   "cell_type": "code",
   "execution_count": 14,
   "metadata": {},
   "outputs": [
    {
     "name": "stdout",
     "output_type": "stream",
     "text": [
      "[{'name': 'id', 'path': []}, {'name': 'vbiasn', 'path': []}, {'name': 'vbiasnd', 'path': []}, {'name': 'vbiasp1', 'path': []}, {'name': 'vbiasp2', 'path': []}, {'name': 'vdd', 'path': []}, {'name': 'net64', 'path': [[24480, 16464, 24480, 13608], [24480, 13608, 35136, 13608], [35136, 13672, 35136, 13472], [35136, 13536, 38304, 13536], [38304, 13536, 38304, 3192], [38304, 3192, 39200, 3192], [39200, 3234, 39200, 2814], [39400, 2856, 39000, 2856], [39200, 2856, 39200, 3192], [26560, 13608, 26560, 13608], [26560, 13566, 26560, 13986], [26760, 13944, 26360, 13944], [26560, 13944, 26560, 13608]]}, {'name': 'net66', 'path': [[24640, 16632, 24640, 12600], [24640, 12600, 19872, 12600], [19872, 12600, 19872, 10080], [20232, 10080, 19512, 10080], [19872, 10080, 19872, 3168], [20088, 3168, 19368, 3168], [19584, 3196, 19584, 2996], [19612, 3024, 19332, 3024], [19360, 3150, 19360, 2730], [19560, 2856, 19160, 2856], [19360, 2856, 19360, 3192], [24640, 13272, 24640, 13272], [24640, 13272, 24640, 13272]]}, {'name': 'voutn', 'path': [[21280, 14280, 19840, 14280], [19840, 14280, 19840, 22512], [19840, 22512, 19680, 22512], [32320, 14280, 32320, 14280], [32320, 14280, 32320, 19824]]}, {'name': 'voutp', 'path': [[31360, 14616, 31360, 14616], [31360, 14616, 31360, 17304], [31360, 17304, 39360, 17304], [39360, 17304, 39360, 22512], [39360, 22512, 39520, 22512], [39360, 19152, 39360, 19152], [39360, 19152, 38400, 19152], [38400, 19152, 38400, 19488]]}, {'name': 'vss', 'path': [[32960, 16128, 32960, 16128], [33036, 16128, 32756, 16128], [32832, 16228, 32832, 16028], [33192, 16128, 32472, 16128], [32832, 16488, 32832, 15768], [33160, 16128, 32440, 16128], [32768, 16128, 32768, 44064], [32440, 44064, 33160, 44064], [32832, 44424, 32832, 43704], [33192, 44064, 32472, 44064], [32832, 44064, 32832, 44352], [32956, 44352, 32676, 44352], [32800, 44562, 32800, 44142], [32800, 44352, 32800, 44352], [26560, 44352, 26560, 44352], [26560, 44310, 26560, 44730], [26560, 44688, 26560, 44688]]}, {'name': 'vinn', 'path': []}, {'name': 'agnd', 'path': [[16320, 504, 16320, 504], [16320, 504, 19008, 504], [19008, 504, 19008, 3456], [19008, 3456, 49248, 3456], [49248, 3456, 49248, 504], [49204, 504, 49484, 504], [49440, 714, 49440, 294], [49440, 504, 49440, 504]]}, {'name': 'phi1', 'path': [[13760, 672, 13920, 672], [13920, 714, 13920, 294], [13920, 336, 48320, 336], [48320, 294, 48320, 714], [48320, 672, 48320, 672]]}, {'name': 'phi2', 'path': [[16640, 1008, 16640, 1008], [16640, 1008, 18720, 1008], [18720, 1008, 18720, 3744], [18720, 3744, 48960, 3744], [48960, 3744, 48960, 840], [48960, 840, 49280, 840], [49280, 1050, 49280, 630], [49280, 840, 49280, 840]]}, {'name': 'vinp', 'path': [[50720, 336, 50720, 336], [50720, 336, 48672, 336], [48672, 412, 48672, 212], [48672, 288, 32544, 288], [32544, 288, 32544, 504], [32572, 504, 32292, 504], [32320, 714, 32320, 294], [32320, 504, 32320, 504]]}]\n",
      "voutn\n",
      "[[21280, 14280, 19840, 14280], [19840, 14280, 19840, 22512], [19840, 22512, 19680, 22512], [32320, 14280, 32320, 14280], [32320, 14280, 32320, 19824]]\n",
      "voutp\n",
      "[[31360, 14616, 31360, 14616], [31360, 14616, 31360, 17304], [31360, 17304, 39360, 17304], [39360, 17304, 39360, 22512], [39360, 22512, 39520, 22512], [39360, 19152, 39360, 19152], [39360, 19152, 38400, 19152], [38400, 19152, 38400, 19488]]\n"
     ]
    },
    {
     "data": {
      "image/png": "[encoded data removed]",
      "text/plain": [
       "<Figure size 432x288 with 1 Axes>"
      ]
     },
     "metadata": {
      "needs_background": "light"
     },
     "output_type": "display_data"
    }
   ],
   "source": [
    "import json\n",
    "import matplotlib.pyplot as plt\n",
    "\n",
    "def read_data(filename):\n",
    "    read_file = filename\n",
    "    data = json.load(open(read_file,'r'))\n",
    "    Blocks = data[\"blocks\"]\n",
    "    Path = data[\"wires\"]\n",
    "    \n",
    "    return Blocks,Path\n",
    "\n",
    "def plot_detail_routing(Blocks,Path,name1,name2):\n",
    "    \n",
    "    plt.figure()\n",
    "    \n",
    "    #plot_box(node_box['LLx'], node_box['LLy'],node_box['URx'],node_box['URy'],'r')\n",
    "    \n",
    "    for block in Blocks:\n",
    "        \n",
    "        plot_box(block[\"position\"][0],block[\"position\"][1],block[\"position\"][2],block[\"position\"][3],'k')        \n",
    "    \n",
    "    \n",
    "    for net in Path:\n",
    "    \n",
    "        if net['name']!=name1 and net['name']!=name2:\n",
    "            continue\n",
    "     \n",
    "        print(net['name'])\n",
    "        print(net['path'])\n",
    "        \n",
    "        for path in net['path']:\n",
    "            plot_line(path[0],path[1],path[2],path[3],'r')\n",
    "            \n",
    "        #for stiner_node in net['steiner_node']:\n",
    "            #plot_dot(stiner_node['x'],stiner_node['y'],'g')\n",
    "    \n",
    "    plt.show()\n",
    "    \n",
    "def plot_box(llx,lly,urx,ury,c):\n",
    "    plt.plot([llx,urx], [lly,lly], lw=2, color=c)\n",
    "    plt.plot([urx,urx], [lly,ury], lw=2, color=c)\n",
    "    plt.plot([urx,llx], [ury,ury], lw=2, color=c)\n",
    "    plt.plot([llx,llx], [lly,ury], lw=2, color=c)\n",
    "    \n",
    "def plot_line(llx,lly,urx,ury,c):\n",
    "    plt.plot([llx,urx], [lly,ury], lw=2, color=c)\n",
    "    \n",
    "def plot_dot(x,y,c):\n",
    "    plt.plot(x,y, 'o', color=c)\n",
    "\n",
    "\n",
    "Blocks,Path=read_data(\"Results/switched_capacitor_filter_DetailRoute_0.json\")\n",
    "print(Path)\n",
    "\n",
    "plot_detail_routing(Blocks,Path,\"voutn\",\"voutp\")\n",
    "\n"
   ]
  },
  {
   "cell_type": "code",
   "execution_count": null,
   "metadata": {},
   "outputs": [],
   "source": []
  }
 ],
 "metadata": {
  "kernelspec": {
   "display_name": "Python 3",
   "language": "python",
   "name": "python3"
  },
  "language_info": {
   "codemirror_mode": {
    "name": "ipython",
    "version": 3
   },
   "file_extension": ".py",
   "mimetype": "text/x-python",
   "name": "python",
   "nbconvert_exporter": "python",
   "pygments_lexer": "ipython3",
   "version": "3.6.12"
  }
 },
 "nbformat": 4,
 "nbformat_minor": 4
}
